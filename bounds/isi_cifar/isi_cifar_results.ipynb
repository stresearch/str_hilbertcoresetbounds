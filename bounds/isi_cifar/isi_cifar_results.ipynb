{
 "cells": [
  {
   "cell_type": "code",
   "execution_count": 1,
   "metadata": {},
   "outputs": [],
   "source": [
    "import numpy as np\n",
    "import matplotlib.pyplot as plt\n",
    "import math"
   ]
  },
  {
   "cell_type": "markdown",
   "metadata": {},
   "source": [
    "# ISI model results\n",
    "The ISI model bound calculation didn't finish, so we are using the checkpoint files that were generated from the calculation script.\n",
    "We compute the bound for each checkpoint and compile them to get the overall bound."
   ]
  },
  {
   "cell_type": "markdown",
   "metadata": {},
   "source": [
    "## 500 checkpoint"
   ]
  },
  {
   "cell_type": "code",
   "execution_count": 2,
   "metadata": {},
   "outputs": [],
   "source": [
    "core_size = np.zeros(4)\n",
    "llw_norm = np.zeros(4)\n",
    "lw_norm = np.zeros(4)\n",
    "l_norm = np.zeros(4)\n",
    "w_tilde_minus_p_norm = np.zeros(4)\n",
    "w_tilde_norm = np.zeros(4)\n",
    "gen_err = np.zeros(4)\n",
    "checkpoint_list = np.array([50, 100, 200, 500])\n",
    "w_tilde = np.zeros((4, 50000))\n",
    "\n",
    "params = np.load(\"../../bound_calculation/hilbert_coreset_results/isi_coreset_cifar_results/exponential_bound/checkpoint_500.npz\")\n",
    "xi = params[\"xi\"]\n",
    "sigma = params[\"sigma\"]\n",
    "eta = params[\"eta\"]\n",
    "eta_bar = params[\"eta_bar\"]\n",
    "beta = params[\"beta\"]\n",
    "\n",
    "for i in range(len(checkpoint_list)):\n",
    "    checkpoint = np.load(\"../../bound_calculation/hilbert_coreset_results/isi_coreset_cifar_results/checkpoints/cifar_500/checkpoint_\" + str(checkpoint_list[i]) + \".npz\")\n",
    "    checkpoint_vals = checkpoint[\"checkpoint_Vals\"]\n",
    "    w_tilde[i,:] = checkpoint[\"w\"]\n",
    "    core_size[i] = checkpoint_vals[0]\n",
    "    llw_norm[i] = checkpoint_vals[1]\n",
    "    l_norm[i] = checkpoint_vals[2]\n",
    "    lw_norm[i] = checkpoint_vals[3]\n",
    "    w_tilde_minus_p_norm[i] = checkpoint_vals[4]\n",
    "    w_tilde_norm[i] = checkpoint_vals[5]\n",
    "    gen_err[i] = checkpoint_vals[6]"
   ]
  },
  {
   "cell_type": "code",
   "execution_count": 3,
   "metadata": {},
   "outputs": [
    {
     "name": "stdout",
     "output_type": "stream",
     "text": [
      "[0.06142729 0.00707774 0.00150794 0.00107578]\n",
      "[0.07902536 0.01356241 0.0049502  0.00409283]\n",
      "[1.22062161 0.9573756  0.88552607 0.87526605]\n",
      "[12.14299849  8.78621078  6.46992955  4.41654485]\n"
     ]
    },
    {
     "data": {
      "text/plain": [
       "<matplotlib.legend.Legend at 0x7f75988a9d68>"
      ]
     },
     "execution_count": 3,
     "metadata": {},
     "output_type": "execute_result"
    },
    {
     "data": {
      "image/png": "[encoded data removed]",
      "text/plain": [
       "<Figure size 432x288 with 1 Axes>"
      ]
     },
     "metadata": {
      "needs_background": "light"
     },
     "output_type": "display_data"
    }
   ],
   "source": [
    "correct_emp = w_tilde_norm**2 * xi * math.sqrt(2 * math.log(2 * 50000**2 / 0.05) / 7000)\n",
    "print(correct_emp)\n",
    "correct_diff = w_tilde_minus_p_norm**2 * xi * math.sqrt(2 * math.log(2 * 50000**2 / 0.05) / 7000)\n",
    "print(correct_diff)\n",
    "\n",
    "alg_bound_500 = lw_norm + llw_norm + correct_emp + correct_diff\n",
    "print(alg_bound_500)\n",
    "\n",
    "top = sigma * eta * eta_bar * beta\n",
    "first = eta_bar**2 * beta**(-2 * (checkpoint_list-1))\n",
    "second = eta**2 * (checkpoint_list-1)\n",
    "exponential_bound = top / np.sqrt(first + second)\n",
    "\n",
    "exp_bound_500 = lw_norm + exponential_bound + correct_emp + correct_diff\n",
    "print(exp_bound_500)\n",
    "\n",
    "plt.plot(checkpoint_list, alg_bound_500, label=\"Algorithmic bound\", color='r')\n",
    "plt.plot(checkpoint_list, exp_bound_500, label=\"Exponential Bound\", color='b')\n",
    "plt.legend();"
   ]
  },
  {
   "cell_type": "markdown",
   "metadata": {},
   "source": [
    "## 2500 checkpoint"
   ]
  },
  {
   "cell_type": "code",
   "execution_count": 4,
   "metadata": {},
   "outputs": [],
   "source": [
    "core_size = np.zeros(5)\n",
    "llw_norm = np.zeros(5)\n",
    "lw_norm = np.zeros(5)\n",
    "l_norm = np.zeros(5)\n",
    "w_tilde_minus_p_norm = np.zeros(5)\n",
    "w_tilde_norm = np.zeros(5)\n",
    "gen_err = np.zeros(5)\n",
    "checkpoint_list = np.array([50, 100, 500, 1000, 2500])\n",
    "w_tilde = np.zeros((5, 50000))\n",
    "\n",
    "params = np.load(\"../../bound_calculation/hilbert_coreset_results/isi_coreset_cifar_results/exponential_bound/checkpoint_2500.npz\")\n",
    "xi = params[\"xi\"]\n",
    "sigma = params[\"sigma\"]\n",
    "eta = params[\"eta\"]\n",
    "eta_bar = params[\"eta_bar\"]\n",
    "beta = params[\"beta\"]\n",
    "\n",
    "for i in range(len(checkpoint_list)):\n",
    "    checkpoint = np.load(\"../../bound_calculation/hilbert_coreset_results/isi_coreset_cifar_results/checkpoints/cifar_2500/checkpoint_\" + str(checkpoint_list[i]) + \".npz\")\n",
    "    checkpoint_vals = checkpoint[\"checkpoint_Vals\"]\n",
    "    w_tilde[i,:] = checkpoint[\"w\"]\n",
    "    core_size[i] = checkpoint_vals[0]\n",
    "    llw_norm[i] = checkpoint_vals[1]\n",
    "    l_norm[i] = checkpoint_vals[2]\n",
    "    lw_norm[i] = checkpoint_vals[3]\n",
    "    w_tilde_minus_p_norm[i] = checkpoint_vals[4]\n",
    "    w_tilde_norm[i] = checkpoint_vals[5]\n",
    "    gen_err[i] = checkpoint_vals[6]"
   ]
  },
  {
   "cell_type": "code",
   "execution_count": 5,
   "metadata": {},
   "outputs": [
    {
     "name": "stdout",
     "output_type": "stream",
     "text": [
      "[0.11769615 0.00803334 0.00146372 0.00118818 0.00107547]\n",
      "[0.14163022 0.01483445 0.00450575 0.00392534 0.00366448]\n",
      "[1.10948794 0.70527503 0.63462035 0.63183955 0.63053613]\n",
      "[8.73986125 6.20709693 3.12520594 2.39447001 1.74568974]\n"
     ]
    },
    {
     "data": {
      "text/plain": [
       "<matplotlib.legend.Legend at 0x7f759076cf28>"
      ]
     },
     "execution_count": 5,
     "metadata": {},
     "output_type": "execute_result"
    },
    {
     "data": {
      "image/png": "[encoded data removed]",
      "text/plain": [
       "<Figure size 432x288 with 1 Axes>"
      ]
     },
     "metadata": {
      "needs_background": "light"
     },
     "output_type": "display_data"
    }
   ],
   "source": [
    "correct_emp = w_tilde_norm**2 * xi * math.sqrt(2 * math.log(2 * 50000**2 / 0.05) / 7000)\n",
    "print(correct_emp)\n",
    "correct_diff = w_tilde_minus_p_norm**2 * xi * math.sqrt(2 * math.log(2 * 50000**2 / 0.05) / 7000)\n",
    "print(correct_diff)\n",
    "\n",
    "alg_bound_2500 = lw_norm + llw_norm + correct_emp + correct_diff\n",
    "print(alg_bound_2500)\n",
    "\n",
    "top = sigma * eta * eta_bar * beta\n",
    "first = eta_bar**2 * beta**(-2 * (checkpoint_list-1))\n",
    "second = eta**2 * (checkpoint_list-1)\n",
    "exponential_bound = top / np.sqrt(first + second)\n",
    "\n",
    "exp_bound_2500 = lw_norm + exponential_bound + correct_emp + correct_diff\n",
    "print(exp_bound_2500)\n",
    "\n",
    "plt.plot(checkpoint_list, alg_bound_2500, label=\"Algorithmic bound\", color='r')\n",
    "plt.plot(checkpoint_list, exp_bound_2500, label=\"Exponential Bound\", color='b')\n",
    "plt.legend();"
   ]
  },
  {
   "cell_type": "markdown",
   "metadata": {},
   "source": [
    "## 4000 checkpoint"
   ]
  },
  {
   "cell_type": "code",
   "execution_count": 6,
   "metadata": {},
   "outputs": [],
   "source": [
    "core_size = np.zeros(5)\n",
    "llw_norm = np.zeros(5)\n",
    "lw_norm = np.zeros(5)\n",
    "l_norm = np.zeros(5)\n",
    "w_tilde_minus_p_norm = np.zeros(5)\n",
    "w_tilde_norm = np.zeros(5)\n",
    "gen_err = np.zeros(5)\n",
    "checkpoint_list = np.array([50, 100, 500, 1000, 4000])\n",
    "w_tilde = np.zeros((5, 50000))\n",
    "\n",
    "params = np.load(\"../../bound_calculation/hilbert_coreset_results/isi_coreset_cifar_results/exponential_bound/checkpoint_4000.npz\")\n",
    "xi = params[\"xi\"]\n",
    "sigma = params[\"sigma\"]\n",
    "eta = params[\"eta\"]\n",
    "eta_bar = params[\"eta_bar\"]\n",
    "beta = params[\"beta\"]\n",
    "\n",
    "for i in range(len(checkpoint_list)):\n",
    "    checkpoint = np.load(\"../../bound_calculation/hilbert_coreset_results/isi_coreset_cifar_results/checkpoints/cifar_4000/checkpoint_\" + str(checkpoint_list[i]) + \".npz\")\n",
    "    checkpoint_vals = checkpoint[\"checkpoint_Vals\"]\n",
    "    w_tilde[i,:] = checkpoint[\"w\"]\n",
    "    core_size[i] = checkpoint_vals[0]\n",
    "    llw_norm[i] = checkpoint_vals[1]\n",
    "    l_norm[i] = checkpoint_vals[2]\n",
    "    lw_norm[i] = checkpoint_vals[3]\n",
    "    w_tilde_minus_p_norm[i] = checkpoint_vals[4]\n",
    "    w_tilde_norm[i] = checkpoint_vals[5]\n",
    "    gen_err[i] = checkpoint_vals[6]"
   ]
  },
  {
   "cell_type": "code",
   "execution_count": 7,
   "metadata": {},
   "outputs": [
    {
     "name": "stdout",
     "output_type": "stream",
     "text": [
      "[0.06338093 0.00237475 0.00122476 0.0012062  0.0011854 ]\n",
      "[0.08123919 0.00659677 0.00442339 0.00435568 0.00427678]\n",
      "[0.86666956 0.61077033 0.57084758 0.56962234 0.56815125]\n",
      "[6.81035485 4.89502164 2.50841509 1.94071386 1.25452957]\n"
     ]
    },
    {
     "data": {
      "text/plain": [
       "<matplotlib.legend.Legend at 0x7f759898a390>"
      ]
     },
     "execution_count": 7,
     "metadata": {},
     "output_type": "execute_result"
    },
    {
     "data": {
      "image/png": "[encoded data removed]",
      "text/plain": [
       "<Figure size 432x288 with 1 Axes>"
      ]
     },
     "metadata": {
      "needs_background": "light"
     },
     "output_type": "display_data"
    }
   ],
   "source": [
    "correct_emp = w_tilde_norm**2 * xi * math.sqrt(2 * math.log(2 * 50000**2 / 0.05) / 7000)\n",
    "print(correct_emp)\n",
    "correct_diff = w_tilde_minus_p_norm**2 * xi * math.sqrt(2 * math.log(2 * 50000**2 / 0.05) / 7000)\n",
    "print(correct_diff)\n",
    "\n",
    "alg_bound_4000 = lw_norm + llw_norm + correct_emp + correct_diff\n",
    "print(alg_bound_4000)\n",
    "\n",
    "top = sigma * eta * eta_bar * beta\n",
    "first = eta_bar**2 * beta**(-2 * (checkpoint_list-1))\n",
    "second = eta**2 * (checkpoint_list-1)\n",
    "exponential_bound = top / np.sqrt(first + second)\n",
    "\n",
    "exp_bound_4000 = lw_norm + exponential_bound + correct_emp + correct_diff\n",
    "print(exp_bound_4000)\n",
    "\n",
    "plt.plot(checkpoint_list, alg_bound_4000, label=\"Algorithmic bound\", color='r')\n",
    "plt.plot(checkpoint_list, exp_bound_4000, label=\"Exponential Bound\", color='b')\n",
    "plt.legend();"
   ]
  },
  {
   "cell_type": "markdown",
   "metadata": {},
   "source": [
    "## 10000 Checkpoint"
   ]
  },
  {
   "cell_type": "code",
   "execution_count": 8,
   "metadata": {},
   "outputs": [],
   "source": [
    "core_size = np.zeros(6)\n",
    "llw_norm = np.zeros(6)\n",
    "lw_norm = np.zeros(6)\n",
    "l_norm = np.zeros(6)\n",
    "w_tilde_minus_p_norm = np.zeros(6)\n",
    "w_tilde_norm = np.zeros(6)\n",
    "gen_err = np.zeros(6)\n",
    "checkpoint_list = np.array([50, 100, 500, 1000, 4000, 7000])\n",
    "w_tilde = np.zeros((6, 50000))\n",
    "\n",
    "params = np.load(\"../../bound_calculation/hilbert_coreset_results/isi_coreset_cifar_results/exponential_bound/checkpoint_10000.npz\")\n",
    "xi = params[\"xi\"]\n",
    "sigma = params[\"sigma\"]\n",
    "eta = params[\"eta\"]\n",
    "eta_bar = params[\"eta_bar\"]\n",
    "beta = params[\"beta\"]\n",
    "\n",
    "for i in range(len(checkpoint_list)):\n",
    "    checkpoint = np.load(\"../../bound_calculation/hilbert_coreset_results/isi_coreset_cifar_results/checkpoints/cifar_10000/checkpoint_\" + str(checkpoint_list[i]) + \".npz\")\n",
    "    checkpoint_vals = checkpoint[\"checkpoint_Vals\"]\n",
    "    w_tilde[i,:] = checkpoint[\"w\"]\n",
    "    core_size[i] = checkpoint_vals[0]\n",
    "    llw_norm[i] = checkpoint_vals[1]\n",
    "    l_norm[i] = checkpoint_vals[2]\n",
    "    lw_norm[i] = checkpoint_vals[3]\n",
    "    w_tilde_minus_p_norm[i] = checkpoint_vals[4]\n",
    "    w_tilde_norm[i] = checkpoint_vals[5]\n",
    "    gen_err[i] = checkpoint_vals[6]"
   ]
  },
  {
   "cell_type": "code",
   "execution_count": 9,
   "metadata": {},
   "outputs": [
    {
     "name": "stdout",
     "output_type": "stream",
     "text": [
      "[0.00207967 0.00269249 0.00119841 0.00118279 0.00118463 0.00118416]\n",
      "[0.00622088 0.00714682 0.00448896 0.00445426 0.00441269 0.00441117]\n",
      "[0.50428116 0.46002618 0.44546324 0.44470519 0.44421028 0.44415627]\n",
      "[4.44904778 3.28773531 1.71913159 1.34609311 0.89521296 0.78510982]\n"
     ]
    },
    {
     "data": {
      "text/plain": [
       "<matplotlib.legend.Legend at 0x7f7598902828>"
      ]
     },
     "execution_count": 9,
     "metadata": {},
     "output_type": "execute_result"
    },
    {
     "data": {
      "image/png": "[encoded data removed]",
      "text/plain": [
       "<Figure size 432x288 with 1 Axes>"
      ]
     },
     "metadata": {
      "needs_background": "light"
     },
     "output_type": "display_data"
    }
   ],
   "source": [
    "correct_emp = w_tilde_norm**2 * xi * math.sqrt(2 * math.log(2 * 50000**2 / 0.05) / 7000)\n",
    "print(correct_emp)\n",
    "correct_diff = w_tilde_minus_p_norm**2 * xi * math.sqrt(2 * math.log(2 * 50000**2 / 0.05) / 7000)\n",
    "print(correct_diff)\n",
    "\n",
    "alg_bound_10000 = lw_norm + llw_norm + correct_emp + correct_diff\n",
    "print(alg_bound_10000)\n",
    "\n",
    "top = sigma * eta * eta_bar * beta\n",
    "first = eta_bar**2 * beta**(-2 * (checkpoint_list-1))\n",
    "second = eta**2 * (checkpoint_list-1)\n",
    "exponential_bound = top / np.sqrt(first + second)\n",
    "\n",
    "exp_bound_10000 = lw_norm + exponential_bound + correct_emp + correct_diff\n",
    "print(exp_bound_10000)\n",
    "\n",
    "plt.plot(checkpoint_list, alg_bound_10000, label=\"Algorithmic bound\", color='r')\n",
    "plt.plot(checkpoint_list, exp_bound_10000, label=\"Exponential Bound\", color='b')\n",
    "plt.legend();"
   ]
  },
  {
   "cell_type": "markdown",
   "metadata": {},
   "source": [
    "## Overall Bound"
   ]
  },
  {
   "cell_type": "code",
   "execution_count": 11,
   "metadata": {},
   "outputs": [
    {
     "name": "stdout",
     "output_type": "stream",
     "text": [
      "[0.87526605 0.63053613 0.56815125 0.44415627]\n",
      "[4.41654485 1.74568974 1.25452957 0.78510982]\n"
     ]
    },
    {
     "data": {
      "text/plain": [
       "Text(0.5, 1.0, 'ISI model bounds')"
      ]
     },
     "execution_count": 11,
     "metadata": {},
     "output_type": "execute_result"
    },
    {
     "data": {
      "image/png": "[encoded data removed]",
      "text/plain": [
       "<Figure size 432x288 with 1 Axes>"
      ]
     },
     "metadata": {
      "needs_background": "light"
     },
     "output_type": "display_data"
    }
   ],
   "source": [
    "train_size_cifar = np.array([500, 2500, 4000, 10000])\n",
    "alg_bound_cifar = np.zeros(4)\n",
    "exp_bound_cifar = np.zeros(4)\n",
    "alg_bound_cifar[0] = alg_bound_500[-1]\n",
    "exp_bound_cifar[0] = exp_bound_500[-1]\n",
    "alg_bound_cifar[1] = alg_bound_2500[-1]\n",
    "exp_bound_cifar[1] = exp_bound_2500[-1]\n",
    "alg_bound_cifar[2] = alg_bound_4000[-1]\n",
    "exp_bound_cifar[2] = exp_bound_4000[-1]\n",
    "alg_bound_cifar[3] = alg_bound_10000[-1]\n",
    "exp_bound_cifar[3] = exp_bound_10000[-1]\n",
    "print(alg_bound_cifar)\n",
    "print(exp_bound_cifar)\n",
    "plt.plot(train_size_cifar, alg_bound_cifar, color=\"r\", label=\"Algorithmic Bound\")\n",
    "plt.plot(train_size_cifar, exp_bound_cifar, color=\"b\", label=\"Exponential Bound\")\n",
    "plt.legend()\n",
    "plt.title(\"ISI model bounds\");"
   ]
  }
 ],
 "metadata": {
  "kernelspec": {
   "display_name": "Python 3",
   "language": "python",
   "name": "python3"
  },
  "language_info": {
   "codemirror_mode": {
    "name": "ipython",
    "version": 3
   },
   "file_extension": ".py",
   "mimetype": "text/x-python",
   "name": "python",
   "nbconvert_exporter": "python",
   "pygments_lexer": "ipython3",
   "version": "3.6.9"
  }
 },
 "nbformat": 4,
 "nbformat_minor": 4
}
